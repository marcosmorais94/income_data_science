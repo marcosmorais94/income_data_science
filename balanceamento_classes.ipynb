{
 "cells": [
  {
   "cell_type": "code",
   "execution_count": 3,
   "id": "1e770c37",
   "metadata": {},
   "outputs": [],
   "source": [
    "# carregando os pacotes e removendo os avisos\n",
    "import numpy as np\n",
    "import pandas as pd\n",
    "import seaborn as sns\n",
    "import scikitplot as skplt\n",
    "from sklearn.linear_model import LogisticRegression\n",
    "from imblearn.over_sampling import SMOTE\n",
    "from scipy import stats\n",
    "import warnings\n",
    "warnings.filterwarnings('ignore')\n",
    "\n",
    "%matplotlib inline"
   ]
  },
  {
   "cell_type": "code",
   "execution_count": 4,
   "id": "e8cde052",
   "metadata": {},
   "outputs": [
    {
     "data": {
      "text/html": [
       "<div>\n",
       "<style scoped>\n",
       "    .dataframe tbody tr th:only-of-type {\n",
       "        vertical-align: middle;\n",
       "    }\n",
       "\n",
       "    .dataframe tbody tr th {\n",
       "        vertical-align: top;\n",
       "    }\n",
       "\n",
       "    .dataframe thead th {\n",
       "        text-align: right;\n",
       "    }\n",
       "</style>\n",
       "<table border=\"1\" class=\"dataframe\">\n",
       "  <thead>\n",
       "    <tr style=\"text-align: right;\">\n",
       "      <th></th>\n",
       "      <th>age</th>\n",
       "      <th>workclass.Local.gov</th>\n",
       "      <th>workclass.Private</th>\n",
       "      <th>workclass.Self.emp.inc</th>\n",
       "      <th>workclass.Self.emp.not.inc</th>\n",
       "      <th>workclass.State.gov</th>\n",
       "      <th>workclass.Without.pay</th>\n",
       "      <th>fnlwgt</th>\n",
       "      <th>education.11th</th>\n",
       "      <th>education.12th</th>\n",
       "      <th>...</th>\n",
       "      <th>native.country.Puerto.Rico</th>\n",
       "      <th>native.country.Scotland</th>\n",
       "      <th>native.country.South</th>\n",
       "      <th>native.country.Taiwan</th>\n",
       "      <th>native.country.Thailand</th>\n",
       "      <th>native.country.Trinadad.Tobago</th>\n",
       "      <th>native.country.United.States</th>\n",
       "      <th>native.country.Vietnam</th>\n",
       "      <th>native.country.Yugoslavia</th>\n",
       "      <th>income</th>\n",
       "    </tr>\n",
       "  </thead>\n",
       "  <tbody>\n",
       "    <tr>\n",
       "      <th>0</th>\n",
       "      <td>39</td>\n",
       "      <td>0</td>\n",
       "      <td>0</td>\n",
       "      <td>0</td>\n",
       "      <td>0</td>\n",
       "      <td>1</td>\n",
       "      <td>0</td>\n",
       "      <td>77516</td>\n",
       "      <td>0</td>\n",
       "      <td>0</td>\n",
       "      <td>...</td>\n",
       "      <td>0</td>\n",
       "      <td>0</td>\n",
       "      <td>0</td>\n",
       "      <td>0</td>\n",
       "      <td>0</td>\n",
       "      <td>0</td>\n",
       "      <td>1</td>\n",
       "      <td>0</td>\n",
       "      <td>0</td>\n",
       "      <td>0</td>\n",
       "    </tr>\n",
       "    <tr>\n",
       "      <th>1</th>\n",
       "      <td>50</td>\n",
       "      <td>0</td>\n",
       "      <td>0</td>\n",
       "      <td>0</td>\n",
       "      <td>1</td>\n",
       "      <td>0</td>\n",
       "      <td>0</td>\n",
       "      <td>83311</td>\n",
       "      <td>0</td>\n",
       "      <td>0</td>\n",
       "      <td>...</td>\n",
       "      <td>0</td>\n",
       "      <td>0</td>\n",
       "      <td>0</td>\n",
       "      <td>0</td>\n",
       "      <td>0</td>\n",
       "      <td>0</td>\n",
       "      <td>1</td>\n",
       "      <td>0</td>\n",
       "      <td>0</td>\n",
       "      <td>0</td>\n",
       "    </tr>\n",
       "    <tr>\n",
       "      <th>2</th>\n",
       "      <td>38</td>\n",
       "      <td>0</td>\n",
       "      <td>1</td>\n",
       "      <td>0</td>\n",
       "      <td>0</td>\n",
       "      <td>0</td>\n",
       "      <td>0</td>\n",
       "      <td>215646</td>\n",
       "      <td>0</td>\n",
       "      <td>0</td>\n",
       "      <td>...</td>\n",
       "      <td>0</td>\n",
       "      <td>0</td>\n",
       "      <td>0</td>\n",
       "      <td>0</td>\n",
       "      <td>0</td>\n",
       "      <td>0</td>\n",
       "      <td>1</td>\n",
       "      <td>0</td>\n",
       "      <td>0</td>\n",
       "      <td>0</td>\n",
       "    </tr>\n",
       "    <tr>\n",
       "      <th>3</th>\n",
       "      <td>53</td>\n",
       "      <td>0</td>\n",
       "      <td>1</td>\n",
       "      <td>0</td>\n",
       "      <td>0</td>\n",
       "      <td>0</td>\n",
       "      <td>0</td>\n",
       "      <td>234721</td>\n",
       "      <td>1</td>\n",
       "      <td>0</td>\n",
       "      <td>...</td>\n",
       "      <td>0</td>\n",
       "      <td>0</td>\n",
       "      <td>0</td>\n",
       "      <td>0</td>\n",
       "      <td>0</td>\n",
       "      <td>0</td>\n",
       "      <td>1</td>\n",
       "      <td>0</td>\n",
       "      <td>0</td>\n",
       "      <td>0</td>\n",
       "    </tr>\n",
       "    <tr>\n",
       "      <th>4</th>\n",
       "      <td>28</td>\n",
       "      <td>0</td>\n",
       "      <td>1</td>\n",
       "      <td>0</td>\n",
       "      <td>0</td>\n",
       "      <td>0</td>\n",
       "      <td>0</td>\n",
       "      <td>338409</td>\n",
       "      <td>0</td>\n",
       "      <td>0</td>\n",
       "      <td>...</td>\n",
       "      <td>0</td>\n",
       "      <td>0</td>\n",
       "      <td>0</td>\n",
       "      <td>0</td>\n",
       "      <td>0</td>\n",
       "      <td>0</td>\n",
       "      <td>0</td>\n",
       "      <td>0</td>\n",
       "      <td>0</td>\n",
       "      <td>0</td>\n",
       "    </tr>\n",
       "  </tbody>\n",
       "</table>\n",
       "<p>5 rows × 98 columns</p>\n",
       "</div>"
      ],
      "text/plain": [
       "   age  workclass.Local.gov  workclass.Private  workclass.Self.emp.inc  \\\n",
       "0   39                    0                  0                       0   \n",
       "1   50                    0                  0                       0   \n",
       "2   38                    0                  1                       0   \n",
       "3   53                    0                  1                       0   \n",
       "4   28                    0                  1                       0   \n",
       "\n",
       "   workclass.Self.emp.not.inc  workclass.State.gov  workclass.Without.pay  \\\n",
       "0                           0                    1                      0   \n",
       "1                           1                    0                      0   \n",
       "2                           0                    0                      0   \n",
       "3                           0                    0                      0   \n",
       "4                           0                    0                      0   \n",
       "\n",
       "   fnlwgt  education.11th  education.12th  ...  native.country.Puerto.Rico  \\\n",
       "0   77516               0               0  ...                           0   \n",
       "1   83311               0               0  ...                           0   \n",
       "2  215646               0               0  ...                           0   \n",
       "3  234721               1               0  ...                           0   \n",
       "4  338409               0               0  ...                           0   \n",
       "\n",
       "   native.country.Scotland  native.country.South  native.country.Taiwan  \\\n",
       "0                        0                     0                      0   \n",
       "1                        0                     0                      0   \n",
       "2                        0                     0                      0   \n",
       "3                        0                     0                      0   \n",
       "4                        0                     0                      0   \n",
       "\n",
       "   native.country.Thailand  native.country.Trinadad.Tobago  \\\n",
       "0                        0                               0   \n",
       "1                        0                               0   \n",
       "2                        0                               0   \n",
       "3                        0                               0   \n",
       "4                        0                               0   \n",
       "\n",
       "   native.country.United.States  native.country.Vietnam  \\\n",
       "0                             1                       0   \n",
       "1                             1                       0   \n",
       "2                             1                       0   \n",
       "3                             1                       0   \n",
       "4                             0                       0   \n",
       "\n",
       "   native.country.Yugoslavia  income  \n",
       "0                          0       0  \n",
       "1                          0       0  \n",
       "2                          0       0  \n",
       "3                          0       0  \n",
       "4                          0       0  \n",
       "\n",
       "[5 rows x 98 columns]"
      ]
     },
     "execution_count": 4,
     "metadata": {},
     "output_type": "execute_result"
    }
   ],
   "source": [
    "# Carregando o dataset\n",
    "df = pd.read_csv('C:/python_scripts/income_predict/BD_modelo.csv', sep = ';')\n",
    "df.head()\n"
   ]
  },
  {
   "cell_type": "code",
   "execution_count": 3,
   "id": "f85a4273",
   "metadata": {},
   "outputs": [
    {
     "data": {
      "text/plain": [
       "(46033, 98)"
      ]
     },
     "execution_count": 3,
     "metadata": {},
     "output_type": "execute_result"
    }
   ],
   "source": [
    "df.shape"
   ]
  },
  {
   "cell_type": "code",
   "execution_count": 4,
   "id": "b1e1544e",
   "metadata": {},
   "outputs": [
    {
     "data": {
      "text/plain": [
       "pandas.core.frame.DataFrame"
      ]
     },
     "execution_count": 4,
     "metadata": {},
     "output_type": "execute_result"
    }
   ],
   "source": [
    "type(df)"
   ]
  },
  {
   "cell_type": "code",
   "execution_count": 5,
   "id": "39d86056",
   "metadata": {},
   "outputs": [
    {
     "data": {
      "text/plain": [
       "age                               int64\n",
       "workclass.Local.gov               int64\n",
       "workclass.Private                 int64\n",
       "workclass.Self.emp.inc            int64\n",
       "workclass.Self.emp.not.inc        int64\n",
       "                                  ...  \n",
       "native.country.Trinadad.Tobago    int64\n",
       "native.country.United.States      int64\n",
       "native.country.Vietnam            int64\n",
       "native.country.Yugoslavia         int64\n",
       "income                            int64\n",
       "Length: 98, dtype: object"
      ]
     },
     "execution_count": 5,
     "metadata": {},
     "output_type": "execute_result"
    }
   ],
   "source": [
    "df.dtypes"
   ]
  },
  {
   "cell_type": "code",
   "execution_count": 5,
   "id": "85c993d9",
   "metadata": {},
   "outputs": [
    {
     "name": "stdout",
     "output_type": "stream",
     "text": [
      "O total de registros é: 46033\n",
      "A classe 1 possui 11422 que representa 24.8 %\n",
      "A classe 0 possui: 34611 que representa 75.2 %\n"
     ]
    },
    {
     "data": {
      "image/png": "[encoded data removed]",
      "text/plain": [
       "<Figure size 640x480 with 1 Axes>"
      ]
     },
     "metadata": {},
     "output_type": "display_data"
    }
   ],
   "source": [
    "graf_class = sns.countplot(x = 'income', data = df, palette = 'PuBu')\n",
    "graf_class.set_xlabel('Classe - 1 Positivo e 0 Negativo')\n",
    "graf_class.set_ylabel('Contagem de Registros')\n",
    "graf_class.set_title('Distribuição de Classes')\n",
    "\n",
    "class_table = df['income'].value_counts()\n",
    "\n",
    "print('O total de registros é:', class_table.sum())\n",
    "print('A classe 1 possui', class_table[1].sum(), 'que representa', round((class_table[1]/class_table.sum())*100,1),\"%\")\n",
    "print('A classe 0 possui:', class_table[0].sum(), 'que representa', round((class_table[0]/class_table.sum())*100,1),\"%\")"
   ]
  },
  {
   "cell_type": "code",
   "execution_count": 6,
   "id": "7ac44eac",
   "metadata": {},
   "outputs": [],
   "source": [
    "# Balanceamento de Classes\n",
    "\n",
    "# Divisão de x e y para o SMOTE\n",
    "x = df.iloc[:, 0:97]\n",
    "y = df.iloc[:, 97]\n",
    "\n",
    "# Cria o balanceador SMOTE\n",
    "smote_bal = SMOTE()\n",
    "\n",
    "# Aplica o balanceador SMOTE\n",
    "x_res, y_res = smote_bal.fit_resample(x, y)"
   ]
  },
  {
   "cell_type": "code",
   "execution_count": 27,
   "id": "092d1199",
   "metadata": {},
   "outputs": [
    {
     "data": {
      "text/plain": [
       "0"
      ]
     },
     "execution_count": 27,
     "metadata": {},
     "output_type": "execute_result"
    }
   ],
   "source": [
    "y_res[1]"
   ]
  },
  {
   "cell_type": "code",
   "execution_count": 29,
   "id": "90e149aa",
   "metadata": {},
   "outputs": [
    {
     "data": {
      "text/plain": [
       "[Text(0, 0, '34611'), Text(0, 0, '34611')]"
      ]
     },
     "execution_count": 29,
     "metadata": {},
     "output_type": "execute_result"
    },
    {
     "data": {
      "image/png": "[encoded data removed]",
      "text/plain": [
       "<Figure size 640x480 with 1 Axes>"
      ]
     },
     "metadata": {},
     "output_type": "display_data"
    }
   ],
   "source": [
    "# Classes foram balanceadas conforme o gráfico abaixo.\n",
    "\n",
    "graf_class2 = sns.countplot(x = y_res, palette = 'PuBu')\n",
    "graf_class2.set_xlabel('Classe - 1 Positivo e 0 Negativo')\n",
    "graf_class2.set_ylabel('Contagem de Registros')\n",
    "graf_class2.set_title('Distribuição de Classes')\n",
    "\n",
    "graf_class2.bar_label(graf_class2.containers[0])"
   ]
  },
  {
   "cell_type": "code",
   "execution_count": 30,
   "id": "27d2e3a6",
   "metadata": {},
   "outputs": [],
   "source": [
    "# Concatenando datasets X e Y\n",
    "df_final = pd.concat([x_res, y_res], axis = 1, ignore_index = True)"
   ]
  },
  {
   "cell_type": "code",
   "execution_count": 31,
   "id": "c69e4b73",
   "metadata": {},
   "outputs": [],
   "source": [
    "# Cria CSV no diretório\n",
    "df_final.to_csv('df_final.csv', index = False)"
   ]
  }
 ],
 "metadata": {
  "kernelspec": {
   "display_name": "Python 3 (ipykernel)",
   "language": "python",
   "name": "python3"
  },
  "language_info": {
   "codemirror_mode": {
    "name": "ipython",
    "version": 3
   },
   "file_extension": ".py",
   "mimetype": "text/x-python",
   "name": "python",
   "nbconvert_exporter": "python",
   "pygments_lexer": "ipython3",
   "version": "3.11.1"
  }
 },
 "nbformat": 4,
 "nbformat_minor": 5
}
